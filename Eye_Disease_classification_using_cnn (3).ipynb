{
  "cells": [
    {
      "cell_type": "code",
      "execution_count": null,
      "metadata": {
        "id": "BoGxXutSA_M6"
      },
      "outputs": [],
      "source": [
        "import numpy as np\n",
        "import pandas as pd\n",
        "import matplotlib.pyplot as plt\n",
        "import seaborn as sns\n"
      ]
    },
    {
      "cell_type": "code",
      "execution_count": null,
      "metadata": {
        "id": "LeAeSA4-BhEK"
      },
      "outputs": [],
      "source": [
        "#import model building libraries\n",
        "from tensorflow.keras.models import Sequential\n",
        "from tensorflow.keras.layers import Dense\n",
        "from tensorflow.keras.layers import Convolution2D\n",
        "from tensorflow.keras.layers import MaxPooling2D\n",
        "from tensorflow.keras.layers import Flatten"
      ]
    },
    {
      "cell_type": "code",
      "execution_count": null,
      "metadata": {
        "id": "cNgtXunijI-R"
      },
      "outputs": [],
      "source": [
        "from keras.preprocessing.image import ImageDataGenerator\n",
        "\n",
        "#2.configure image data generator\n",
        "train_datagen=ImageDataGenerator(rescale=1./255,shear_range=0.2,zoom_range=0.2,horizontal_flip=True)\n",
        "test_datagen=ImageDataGenerator(rescale=1./255)"
      ]
    },
    {
      "cell_type": "code",
      "execution_count": null,
      "metadata": {
        "colab": {
          "base_uri": "https://localhost:8080/"
        },
        "id": "1coZuiifBf5f",
        "outputId": "b4f32998-1a4b-422a-eac3-c938cabf4ce9"
      },
      "outputs": [
        {
          "output_type": "stream",
          "name": "stdout",
          "text": [
            "Found 4217 images belonging to 4 classes.\n",
            "Found 400 images belonging to 4 classes.\n"
          ]
        }
      ],
      "source": [
        "#3.Apply image data generator functionality to train and test images\n",
        "x_train=train_datagen.flow_from_directory(r'drive/MyDrive/train/dataset',target_size=(64,64),batch_size=32,class_mode=\"categorical\")\n",
        "x_test = test_datagen.flow_from_directory(r'drive/MyDrive/test',target_size = (64,64),batch_size=32,class_mode=\"categorical\")"
      ]
    },
    {
      "cell_type": "code",
      "execution_count": null,
      "metadata": {
        "colab": {
          "base_uri": "https://localhost:8080/"
        },
        "id": "x-MBNBiDBiWf",
        "outputId": "0b44cc0e-1080-4305-c283-d0e04fbfbe9f"
      },
      "outputs": [
        {
          "output_type": "stream",
          "name": "stdout",
          "text": [
            "{'cataract': 0, 'diabetic_retinopathy': 1, 'glaucoma': 2, 'normal': 3}\n"
          ]
        }
      ],
      "source": [
        "print(x_train.class_indices)"
      ]
    },
    {
      "cell_type": "code",
      "execution_count": null,
      "metadata": {
        "id": "B2hUl1cjCAa3"
      },
      "outputs": [],
      "source": [
        "model=Sequential()"
      ]
    },
    {
      "cell_type": "code",
      "execution_count": null,
      "metadata": {
        "id": "gUncLwVfCO1H"
      },
      "outputs": [],
      "source": [
        "model.add(Convolution2D(32,(3,3),input_shape=(64,64,3),activation=\"relu\"))"
      ]
    },
    {
      "cell_type": "code",
      "execution_count": null,
      "metadata": {
        "id": "m1C_-K8lCRdg"
      },
      "outputs": [],
      "source": [
        "#add max pool layer(pool_size)\n",
        "model.add(MaxPooling2D(pool_size=(2,2)))"
      ]
    },
    {
      "cell_type": "code",
      "execution_count": null,
      "metadata": {
        "id": "lMZN5tU9CT3Z"
      },
      "outputs": [],
      "source": [
        "#add flatten layer  ---input of ann\n",
        "model.add(Flatten())"
      ]
    },
    {
      "cell_type": "code",
      "execution_count": null,
      "metadata": {
        "id": "KBIy2t1YCWgR"
      },
      "outputs": [],
      "source": [
        "#ann hidden layer\n",
        "model.add(Dense(units=128,activation=\"relu\"))"
      ]
    },
    {
      "cell_type": "code",
      "execution_count": null,
      "metadata": {
        "id": "chkdtC_CCYwQ"
      },
      "outputs": [],
      "source": [
        "#add output layer\n",
        "model.add(Dense(units=4,activation=\"softmax\"))"
      ]
    },
    {
      "cell_type": "code",
      "execution_count": null,
      "metadata": {
        "id": "wym9sHAVCbTd"
      },
      "outputs": [],
      "source": [
        "#Compile the model (loss fucntion,accuracy,optimizer)\n",
        "model.compile(loss=\"categorical_crossentropy\",optimizer=\"adam\",metrics=\"accuracy\")"
      ]
    },
    {
      "cell_type": "code",
      "execution_count": null,
      "metadata": {
        "colab": {
          "base_uri": "https://localhost:8080/"
        },
        "id": "4QigXLB4CeGP",
        "outputId": "36192fdb-a666-4e71-8274-167623185487"
      },
      "outputs": [
        {
          "output_type": "stream",
          "name": "stdout",
          "text": [
            "Epoch 1/100\n",
            "132/132 [==============================] - 1250s 9s/step - loss: 1.1970 - accuracy: 0.4902 - val_loss: 0.9345 - val_accuracy: 0.6062\n",
            "Epoch 2/100\n",
            "132/132 [==============================] - 83s 628ms/step - loss: 0.8893 - accuracy: 0.6163 - val_loss: 0.9106 - val_accuracy: 0.6000\n",
            "Epoch 3/100\n",
            "132/132 [==============================] - 71s 532ms/step - loss: 0.7988 - accuracy: 0.6690 - val_loss: 0.7853 - val_accuracy: 0.6656\n",
            "Epoch 4/100\n",
            "132/132 [==============================] - 69s 520ms/step - loss: 0.7413 - accuracy: 0.6967 - val_loss: 0.6856 - val_accuracy: 0.7500\n",
            "Epoch 5/100\n",
            "132/132 [==============================] - 81s 613ms/step - loss: 0.6943 - accuracy: 0.7133 - val_loss: 0.6842 - val_accuracy: 0.6875\n",
            "Epoch 6/100\n",
            "132/132 [==============================] - 71s 537ms/step - loss: 0.6691 - accuracy: 0.7195 - val_loss: 0.6867 - val_accuracy: 0.7312\n",
            "Epoch 7/100\n",
            "132/132 [==============================] - 71s 538ms/step - loss: 0.6552 - accuracy: 0.7344 - val_loss: 0.5886 - val_accuracy: 0.7531\n",
            "Epoch 8/100\n",
            "132/132 [==============================] - 70s 529ms/step - loss: 0.6195 - accuracy: 0.7531 - val_loss: 0.6769 - val_accuracy: 0.7812\n",
            "Epoch 9/100\n",
            "132/132 [==============================] - 70s 531ms/step - loss: 0.6031 - accuracy: 0.7576 - val_loss: 0.5779 - val_accuracy: 0.7937\n",
            "Epoch 10/100\n",
            "132/132 [==============================] - 70s 528ms/step - loss: 0.5892 - accuracy: 0.7619 - val_loss: 0.7673 - val_accuracy: 0.6812\n",
            "Epoch 11/100\n",
            "132/132 [==============================] - 68s 520ms/step - loss: 0.5595 - accuracy: 0.7757 - val_loss: 0.5448 - val_accuracy: 0.7656\n",
            "Epoch 12/100\n",
            "132/132 [==============================] - 70s 532ms/step - loss: 0.5375 - accuracy: 0.7866 - val_loss: 0.6662 - val_accuracy: 0.7250\n",
            "Epoch 13/100\n",
            "132/132 [==============================] - 79s 599ms/step - loss: 0.5345 - accuracy: 0.7916 - val_loss: 0.5985 - val_accuracy: 0.7688\n",
            "Epoch 14/100\n",
            "132/132 [==============================] - 72s 544ms/step - loss: 0.5112 - accuracy: 0.7970 - val_loss: 0.5223 - val_accuracy: 0.7937\n",
            "Epoch 15/100\n",
            "132/132 [==============================] - 71s 538ms/step - loss: 0.4812 - accuracy: 0.8077 - val_loss: 0.4783 - val_accuracy: 0.8094\n",
            "Epoch 16/100\n",
            "132/132 [==============================] - 70s 533ms/step - loss: 0.5004 - accuracy: 0.7991 - val_loss: 0.4936 - val_accuracy: 0.7812\n",
            "Epoch 17/100\n",
            "132/132 [==============================] - 71s 535ms/step - loss: 0.4724 - accuracy: 0.8093 - val_loss: 0.5629 - val_accuracy: 0.7844\n",
            "Epoch 18/100\n",
            "132/132 [==============================] - 71s 534ms/step - loss: 0.4672 - accuracy: 0.8186 - val_loss: 0.5047 - val_accuracy: 0.8156\n",
            "Epoch 19/100\n",
            "132/132 [==============================] - 71s 538ms/step - loss: 0.4498 - accuracy: 0.8259 - val_loss: 0.4735 - val_accuracy: 0.8125\n",
            "Epoch 20/100\n",
            "132/132 [==============================] - 72s 541ms/step - loss: 0.4731 - accuracy: 0.8172 - val_loss: 0.5339 - val_accuracy: 0.7969\n",
            "Epoch 21/100\n",
            "132/132 [==============================] - 71s 536ms/step - loss: 0.4456 - accuracy: 0.8245 - val_loss: 0.4971 - val_accuracy: 0.8031\n",
            "Epoch 22/100\n",
            "132/132 [==============================] - 76s 571ms/step - loss: 0.4372 - accuracy: 0.8312 - val_loss: 0.4296 - val_accuracy: 0.8438\n",
            "Epoch 23/100\n",
            "132/132 [==============================] - 71s 539ms/step - loss: 0.4292 - accuracy: 0.8321 - val_loss: 0.4217 - val_accuracy: 0.8219\n",
            "Epoch 24/100\n",
            "132/132 [==============================] - 71s 535ms/step - loss: 0.4366 - accuracy: 0.8304 - val_loss: 0.3909 - val_accuracy: 0.8594\n",
            "Epoch 25/100\n",
            "132/132 [==============================] - 70s 533ms/step - loss: 0.4090 - accuracy: 0.8440 - val_loss: 0.4429 - val_accuracy: 0.8156\n",
            "Epoch 26/100\n",
            "132/132 [==============================] - 70s 533ms/step - loss: 0.4217 - accuracy: 0.8319 - val_loss: 0.3618 - val_accuracy: 0.8531\n",
            "Epoch 27/100\n",
            "132/132 [==============================] - 70s 528ms/step - loss: 0.4081 - accuracy: 0.8449 - val_loss: 0.5024 - val_accuracy: 0.8000\n",
            "Epoch 28/100\n",
            "132/132 [==============================] - 70s 532ms/step - loss: 0.4057 - accuracy: 0.8437 - val_loss: 0.3792 - val_accuracy: 0.8719\n",
            "Epoch 29/100\n",
            "132/132 [==============================] - 70s 529ms/step - loss: 0.4022 - accuracy: 0.8414 - val_loss: 0.3147 - val_accuracy: 0.8969\n",
            "Epoch 30/100\n",
            "132/132 [==============================] - 70s 528ms/step - loss: 0.3885 - accuracy: 0.8409 - val_loss: 0.2733 - val_accuracy: 0.9031\n",
            "Epoch 31/100\n",
            "132/132 [==============================] - 69s 522ms/step - loss: 0.3900 - accuracy: 0.8470 - val_loss: 0.3069 - val_accuracy: 0.8969\n",
            "Epoch 32/100\n",
            "132/132 [==============================] - 70s 530ms/step - loss: 0.3644 - accuracy: 0.8551 - val_loss: 0.4571 - val_accuracy: 0.8594\n",
            "Epoch 33/100\n",
            "132/132 [==============================] - 71s 536ms/step - loss: 0.3697 - accuracy: 0.8489 - val_loss: 0.3775 - val_accuracy: 0.8469\n",
            "Epoch 34/100\n",
            "132/132 [==============================] - 71s 534ms/step - loss: 0.3587 - accuracy: 0.8565 - val_loss: 0.2976 - val_accuracy: 0.8875\n",
            "Epoch 35/100\n",
            "132/132 [==============================] - 69s 523ms/step - loss: 0.3589 - accuracy: 0.8537 - val_loss: 0.2950 - val_accuracy: 0.8719\n",
            "Epoch 36/100\n",
            "132/132 [==============================] - 71s 537ms/step - loss: 0.3448 - accuracy: 0.8708 - val_loss: 0.2674 - val_accuracy: 0.9125\n",
            "Epoch 37/100\n",
            "132/132 [==============================] - 70s 531ms/step - loss: 0.3468 - accuracy: 0.8618 - val_loss: 0.2463 - val_accuracy: 0.9281\n",
            "Epoch 38/100\n",
            "132/132 [==============================] - 70s 533ms/step - loss: 0.3486 - accuracy: 0.8663 - val_loss: 0.1993 - val_accuracy: 0.9344\n",
            "Epoch 39/100\n",
            "132/132 [==============================] - 70s 535ms/step - loss: 0.3331 - accuracy: 0.8708 - val_loss: 0.2492 - val_accuracy: 0.9062\n",
            "Epoch 40/100\n",
            "132/132 [==============================] - 70s 528ms/step - loss: 0.3249 - accuracy: 0.8746 - val_loss: 0.4104 - val_accuracy: 0.8500\n",
            "Epoch 41/100\n",
            "132/132 [==============================] - 69s 528ms/step - loss: 0.3182 - accuracy: 0.8743 - val_loss: 0.2600 - val_accuracy: 0.8875\n",
            "Epoch 42/100\n",
            "132/132 [==============================] - 71s 537ms/step - loss: 0.3356 - accuracy: 0.8670 - val_loss: 0.2942 - val_accuracy: 0.9000\n",
            "Epoch 43/100\n",
            "132/132 [==============================] - 68s 519ms/step - loss: 0.3234 - accuracy: 0.8708 - val_loss: 0.1911 - val_accuracy: 0.9312\n",
            "Epoch 44/100\n",
            "132/132 [==============================] - 69s 526ms/step - loss: 0.3091 - accuracy: 0.8765 - val_loss: 0.2129 - val_accuracy: 0.9250\n",
            "Epoch 45/100\n",
            "132/132 [==============================] - 67s 510ms/step - loss: 0.3254 - accuracy: 0.8736 - val_loss: 0.2111 - val_accuracy: 0.9281\n",
            "Epoch 46/100\n",
            "132/132 [==============================] - 70s 529ms/step - loss: 0.3097 - accuracy: 0.8826 - val_loss: 0.2531 - val_accuracy: 0.9062\n",
            "Epoch 47/100\n",
            "132/132 [==============================] - 69s 521ms/step - loss: 0.3083 - accuracy: 0.8800 - val_loss: 0.2368 - val_accuracy: 0.9375\n",
            "Epoch 48/100\n",
            "132/132 [==============================] - 70s 525ms/step - loss: 0.3039 - accuracy: 0.8866 - val_loss: 0.3071 - val_accuracy: 0.8813\n",
            "Epoch 49/100\n",
            "132/132 [==============================] - 68s 515ms/step - loss: 0.2932 - accuracy: 0.8874 - val_loss: 0.1895 - val_accuracy: 0.9406\n",
            "Epoch 50/100\n",
            "132/132 [==============================] - 69s 523ms/step - loss: 0.2917 - accuracy: 0.8895 - val_loss: 0.2424 - val_accuracy: 0.9281\n",
            "Epoch 51/100\n",
            "132/132 [==============================] - 68s 517ms/step - loss: 0.2901 - accuracy: 0.8940 - val_loss: 0.2707 - val_accuracy: 0.9156\n",
            "Epoch 52/100\n",
            "132/132 [==============================] - 71s 537ms/step - loss: 0.2846 - accuracy: 0.8935 - val_loss: 0.2593 - val_accuracy: 0.9250\n",
            "Epoch 53/100\n",
            "132/132 [==============================] - 70s 526ms/step - loss: 0.2702 - accuracy: 0.8990 - val_loss: 0.2577 - val_accuracy: 0.9031\n",
            "Epoch 54/100\n",
            "132/132 [==============================] - 71s 535ms/step - loss: 0.2803 - accuracy: 0.8888 - val_loss: 0.2398 - val_accuracy: 0.8875\n",
            "Epoch 55/100\n",
            "132/132 [==============================] - 71s 539ms/step - loss: 0.2699 - accuracy: 0.8985 - val_loss: 0.2398 - val_accuracy: 0.9219\n",
            "Epoch 56/100\n",
            "132/132 [==============================] - 70s 524ms/step - loss: 0.2763 - accuracy: 0.8876 - val_loss: 0.2063 - val_accuracy: 0.9250\n",
            "Epoch 57/100\n",
            "132/132 [==============================] - 71s 536ms/step - loss: 0.2739 - accuracy: 0.8921 - val_loss: 0.2768 - val_accuracy: 0.8938\n",
            "Epoch 58/100\n",
            "132/132 [==============================] - 71s 534ms/step - loss: 0.2742 - accuracy: 0.8945 - val_loss: 0.1462 - val_accuracy: 0.9625\n",
            "Epoch 59/100\n",
            "132/132 [==============================] - 71s 537ms/step - loss: 0.2665 - accuracy: 0.8923 - val_loss: 0.1633 - val_accuracy: 0.9406\n",
            "Epoch 60/100\n",
            "132/132 [==============================] - 71s 534ms/step - loss: 0.2702 - accuracy: 0.8999 - val_loss: 0.1730 - val_accuracy: 0.9312\n",
            "Epoch 61/100\n",
            "132/132 [==============================] - 70s 529ms/step - loss: 0.2614 - accuracy: 0.9016 - val_loss: 0.1365 - val_accuracy: 0.9656\n",
            "Epoch 62/100\n",
            "132/132 [==============================] - 70s 533ms/step - loss: 0.2565 - accuracy: 0.8942 - val_loss: 0.1783 - val_accuracy: 0.9500\n",
            "Epoch 63/100\n",
            "132/132 [==============================] - 70s 530ms/step - loss: 0.2505 - accuracy: 0.8995 - val_loss: 0.1811 - val_accuracy: 0.9375\n",
            "Epoch 64/100\n",
            "132/132 [==============================] - 70s 529ms/step - loss: 0.2572 - accuracy: 0.9049 - val_loss: 0.1496 - val_accuracy: 0.9438\n",
            "Epoch 65/100\n",
            "132/132 [==============================] - 70s 531ms/step - loss: 0.2462 - accuracy: 0.9044 - val_loss: 0.1455 - val_accuracy: 0.9406\n",
            "Epoch 66/100\n",
            "132/132 [==============================] - 70s 527ms/step - loss: 0.2531 - accuracy: 0.9059 - val_loss: 0.1749 - val_accuracy: 0.9312\n",
            "Epoch 67/100\n",
            "132/132 [==============================] - 68s 517ms/step - loss: 0.2392 - accuracy: 0.9094 - val_loss: 0.1446 - val_accuracy: 0.9625\n",
            "Epoch 68/100\n",
            "132/132 [==============================] - 70s 530ms/step - loss: 0.2319 - accuracy: 0.9085 - val_loss: 0.2324 - val_accuracy: 0.9031\n",
            "Epoch 69/100\n",
            "132/132 [==============================] - 74s 557ms/step - loss: 0.2368 - accuracy: 0.9097 - val_loss: 0.1717 - val_accuracy: 0.9406\n",
            "Epoch 70/100\n",
            "132/132 [==============================] - 69s 519ms/step - loss: 0.2426 - accuracy: 0.9056 - val_loss: 0.2030 - val_accuracy: 0.9094\n",
            "Epoch 71/100\n",
            "132/132 [==============================] - 69s 523ms/step - loss: 0.2251 - accuracy: 0.9123 - val_loss: 0.1559 - val_accuracy: 0.9406\n",
            "Epoch 72/100\n",
            "132/132 [==============================] - 70s 526ms/step - loss: 0.2355 - accuracy: 0.9120 - val_loss: 0.1460 - val_accuracy: 0.9344\n",
            "Epoch 73/100\n",
            "132/132 [==============================] - 69s 523ms/step - loss: 0.2188 - accuracy: 0.9168 - val_loss: 0.1310 - val_accuracy: 0.9656\n",
            "Epoch 74/100\n",
            "132/132 [==============================] - 68s 512ms/step - loss: 0.2247 - accuracy: 0.9189 - val_loss: 0.1880 - val_accuracy: 0.9219\n",
            "Epoch 75/100\n",
            "132/132 [==============================] - 69s 524ms/step - loss: 0.2370 - accuracy: 0.9125 - val_loss: 0.1640 - val_accuracy: 0.9375\n",
            "Epoch 76/100\n",
            "132/132 [==============================] - 69s 520ms/step - loss: 0.2230 - accuracy: 0.9139 - val_loss: 0.1697 - val_accuracy: 0.9406\n",
            "Epoch 77/100\n",
            "132/132 [==============================] - 68s 516ms/step - loss: 0.2243 - accuracy: 0.9101 - val_loss: 0.1221 - val_accuracy: 0.9688\n",
            "Epoch 78/100\n",
            "132/132 [==============================] - 70s 529ms/step - loss: 0.2015 - accuracy: 0.9213 - val_loss: 0.2005 - val_accuracy: 0.9469\n",
            "Epoch 79/100\n",
            "132/132 [==============================] - 69s 522ms/step - loss: 0.2052 - accuracy: 0.9201 - val_loss: 0.1498 - val_accuracy: 0.9500\n",
            "Epoch 80/100\n",
            "132/132 [==============================] - 68s 518ms/step - loss: 0.2121 - accuracy: 0.9189 - val_loss: 0.1234 - val_accuracy: 0.9656\n",
            "Epoch 81/100\n",
            "132/132 [==============================] - 69s 526ms/step - loss: 0.2028 - accuracy: 0.9234 - val_loss: 0.1226 - val_accuracy: 0.9563\n",
            "Epoch 82/100\n",
            "132/132 [==============================] - 68s 518ms/step - loss: 0.2352 - accuracy: 0.9142 - val_loss: 0.1870 - val_accuracy: 0.9375\n",
            "Epoch 83/100\n",
            "132/132 [==============================] - 70s 533ms/step - loss: 0.2042 - accuracy: 0.9203 - val_loss: 0.2159 - val_accuracy: 0.9125\n",
            "Epoch 84/100\n",
            "132/132 [==============================] - 70s 531ms/step - loss: 0.1853 - accuracy: 0.9300 - val_loss: 0.0980 - val_accuracy: 0.9688\n",
            "Epoch 85/100\n",
            "132/132 [==============================] - 69s 521ms/step - loss: 0.1876 - accuracy: 0.9289 - val_loss: 0.0808 - val_accuracy: 0.9781\n",
            "Epoch 86/100\n",
            "132/132 [==============================] - 70s 529ms/step - loss: 0.1932 - accuracy: 0.9303 - val_loss: 0.1770 - val_accuracy: 0.9500\n",
            "Epoch 87/100\n",
            "132/132 [==============================] - 70s 527ms/step - loss: 0.1974 - accuracy: 0.9279 - val_loss: 0.1379 - val_accuracy: 0.9438\n",
            "Epoch 88/100\n",
            "132/132 [==============================] - 69s 522ms/step - loss: 0.1890 - accuracy: 0.9272 - val_loss: 0.0569 - val_accuracy: 0.9844\n",
            "Epoch 89/100\n",
            "132/132 [==============================] - 69s 522ms/step - loss: 0.1822 - accuracy: 0.9274 - val_loss: 0.1618 - val_accuracy: 0.9438\n",
            "Epoch 90/100\n",
            "132/132 [==============================] - 68s 518ms/step - loss: 0.1864 - accuracy: 0.9286 - val_loss: 0.1085 - val_accuracy: 0.9656\n",
            "Epoch 91/100\n",
            "132/132 [==============================] - 70s 528ms/step - loss: 0.1834 - accuracy: 0.9298 - val_loss: 0.1080 - val_accuracy: 0.9594\n",
            "Epoch 92/100\n",
            "132/132 [==============================] - 71s 538ms/step - loss: 0.1881 - accuracy: 0.9279 - val_loss: 0.1125 - val_accuracy: 0.9438\n",
            "Epoch 93/100\n",
            "132/132 [==============================] - 70s 534ms/step - loss: 0.1845 - accuracy: 0.9317 - val_loss: 0.0938 - val_accuracy: 0.9688\n",
            "Epoch 94/100\n",
            "132/132 [==============================] - 71s 539ms/step - loss: 0.1659 - accuracy: 0.9391 - val_loss: 0.1908 - val_accuracy: 0.9156\n",
            "Epoch 95/100\n",
            "132/132 [==============================] - 70s 529ms/step - loss: 0.1957 - accuracy: 0.9244 - val_loss: 0.1376 - val_accuracy: 0.9344\n",
            "Epoch 96/100\n",
            "132/132 [==============================] - 70s 530ms/step - loss: 0.1904 - accuracy: 0.9319 - val_loss: 0.0889 - val_accuracy: 0.9594\n",
            "Epoch 97/100\n",
            "132/132 [==============================] - 69s 522ms/step - loss: 0.1892 - accuracy: 0.9324 - val_loss: 0.1035 - val_accuracy: 0.9594\n",
            "Epoch 98/100\n",
            "132/132 [==============================] - 71s 540ms/step - loss: 0.1842 - accuracy: 0.9322 - val_loss: 0.1996 - val_accuracy: 0.9156\n",
            "Epoch 99/100\n",
            "132/132 [==============================] - 72s 543ms/step - loss: 0.1752 - accuracy: 0.9341 - val_loss: 0.0976 - val_accuracy: 0.9688\n",
            "Epoch 100/100\n",
            "132/132 [==============================] - 71s 542ms/step - loss: 0.1931 - accuracy: 0.9279 - val_loss: 0.0930 - val_accuracy: 0.9750\n"
          ]
        }
      ],
      "source": [
        "#fit model (x_train,steps_per epoch,epochs,validation_data,validation_steps)\n",
        "history=model.fit(x_train,epochs=100,validation_data=x_test,validation_steps=10)"
      ]
    },
    {
      "cell_type": "code",
      "execution_count": null,
      "metadata": {
        "id": "KGmc0c8eQ5_y",
        "colab": {
          "base_uri": "https://localhost:8080/"
        },
        "outputId": "3d24830b-f039-401e-8ef8-11058ba8029a"
      },
      "outputs": [
        {
          "output_type": "stream",
          "name": "stdout",
          "text": [
            "Model: \"sequential\"\n",
            "_________________________________________________________________\n",
            " Layer (type)                Output Shape              Param #   \n",
            "=================================================================\n",
            " conv2d (Conv2D)             (None, 62, 62, 32)        896       \n",
            "                                                                 \n",
            " max_pooling2d (MaxPooling2D  (None, 31, 31, 32)       0         \n",
            " )                                                               \n",
            "                                                                 \n",
            " flatten (Flatten)           (None, 30752)             0         \n",
            "                                                                 \n",
            " dense (Dense)               (None, 128)               3936384   \n",
            "                                                                 \n",
            " dense_1 (Dense)             (None, 4)                 516       \n",
            "                                                                 \n",
            "=================================================================\n",
            "Total params: 3,937,796\n",
            "Trainable params: 3,937,796\n",
            "Non-trainable params: 0\n",
            "_________________________________________________________________\n",
            "Training Accuracy : 0.9279108643531799\n",
            "value Accuracy : 0.9750000238418579\n"
          ]
        }
      ],
      "source": [
        "train_accuracy = history.history['accuracy'][-1]\n",
        "val_accuracy = history.history['val_accuracy'][-1]\n",
        "model.summary()\n",
        "# Print the accuracy\n",
        "print(\"Training Accuracy :\",train_accuracy)\n",
        "print(\"value Accuracy :\", val_accuracy)\n",
        "\n"
      ]
    },
    {
      "cell_type": "code",
      "execution_count": null,
      "metadata": {
        "id": "qYKo5gfFRN2C"
      },
      "outputs": [],
      "source": [
        "model.save(\"EyeDisU.h5\")"
      ]
    },
    {
      "cell_type": "markdown",
      "metadata": {
        "id": "LGzWxEDNSEEt"
      },
      "source": [
        "Testing the model"
      ]
    },
    {
      "cell_type": "code",
      "execution_count": 1,
      "metadata": {
        "id": "GB6qhDS8SIS0"
      },
      "outputs": [],
      "source": [
        "from tensorflow.keras.models import load_model\n",
        "from tensorflow.keras.preprocessing import image\n",
        "import numpy as np"
      ]
    },
    {
      "cell_type": "code",
      "execution_count": 2,
      "metadata": {
        "id": "2e_LdACxTd-C"
      },
      "outputs": [],
      "source": [
        "import tensorflow as tf"
      ]
    },
    {
      "cell_type": "code",
      "execution_count": 4,
      "metadata": {
        "id": "tFdyOabfTiK8"
      },
      "outputs": [],
      "source": [
        "model=tf.keras.models.load_model(r\"/content/EyeDisU.h5\",compile=False)"
      ]
    },
    {
      "cell_type": "code",
      "execution_count": 5,
      "metadata": {
        "id": "jMMU9FaBXrIj"
      },
      "outputs": [],
      "source": [
        "#D:\\SmartBridge\\VIT_morning_slot\\dataset\\Testing\\elephants\\nature_3306013__340.jpg\n",
        "img=image.load_img(r'drive/MyDrive/test/cataract/_1_5346540.jpg',target_size=(64,64))"
      ]
    },
    {
      "cell_type": "code",
      "execution_count": 6,
      "metadata": {
        "id": "4fH8lPasY05J",
        "colab": {
          "base_uri": "https://localhost:8080/",
          "height": 81
        },
        "outputId": "7e64e73c-1bb5-47c5-9d39-b4f49475ae96"
      },
      "outputs": [
        {
          "output_type": "execute_result",
          "data": {
            "text/plain": [
              "<PIL.Image.Image image mode=RGB size=64x64>"
            ],
            "image/png": "[encoded data removed]"
          },
          "metadata": {},
          "execution_count": 6
        }
      ],
      "source": [
        "img\n"
      ]
    },
    {
      "cell_type": "code",
      "execution_count": 7,
      "metadata": {
        "id": "PflhTjPdY5rv"
      },
      "outputs": [],
      "source": [
        "x=image.img_to_array(img)"
      ]
    },
    {
      "cell_type": "code",
      "execution_count": 8,
      "metadata": {
        "id": "kKOkcGh9Y-p1",
        "colab": {
          "base_uri": "https://localhost:8080/"
        },
        "outputId": "88bb9a29-4c8f-4437-8f57-0de9db7e8616"
      },
      "outputs": [
        {
          "output_type": "execute_result",
          "data": {
            "text/plain": [
              "array([[[0., 0., 0.],\n",
              "        [0., 0., 0.],\n",
              "        [0., 0., 0.],\n",
              "        ...,\n",
              "        [0., 0., 0.],\n",
              "        [0., 0., 0.],\n",
              "        [0., 0., 0.]],\n",
              "\n",
              "       [[0., 0., 0.],\n",
              "        [0., 0., 0.],\n",
              "        [0., 0., 0.],\n",
              "        ...,\n",
              "        [0., 0., 0.],\n",
              "        [0., 0., 0.],\n",
              "        [0., 0., 0.]],\n",
              "\n",
              "       [[0., 0., 0.],\n",
              "        [0., 0., 0.],\n",
              "        [0., 0., 0.],\n",
              "        ...,\n",
              "        [0., 0., 0.],\n",
              "        [0., 0., 0.],\n",
              "        [0., 0., 0.]],\n",
              "\n",
              "       ...,\n",
              "\n",
              "       [[0., 0., 0.],\n",
              "        [0., 0., 0.],\n",
              "        [0., 0., 0.],\n",
              "        ...,\n",
              "        [0., 0., 0.],\n",
              "        [0., 0., 0.],\n",
              "        [0., 0., 0.]],\n",
              "\n",
              "       [[0., 0., 0.],\n",
              "        [0., 0., 0.],\n",
              "        [0., 0., 0.],\n",
              "        ...,\n",
              "        [0., 0., 0.],\n",
              "        [0., 0., 0.],\n",
              "        [0., 0., 0.]],\n",
              "\n",
              "       [[0., 0., 0.],\n",
              "        [0., 0., 0.],\n",
              "        [0., 0., 0.],\n",
              "        ...,\n",
              "        [0., 0., 0.],\n",
              "        [0., 0., 0.],\n",
              "        [0., 0., 0.]]], dtype=float32)"
            ]
          },
          "metadata": {},
          "execution_count": 8
        }
      ],
      "source": [
        "x"
      ]
    },
    {
      "cell_type": "code",
      "execution_count": 9,
      "metadata": {
        "id": "8CnereISZA5R"
      },
      "outputs": [],
      "source": [
        "x=np.expand_dims(x,axis=0)"
      ]
    },
    {
      "cell_type": "code",
      "execution_count": 10,
      "metadata": {
        "id": "rSFjqmgIZICg",
        "colab": {
          "base_uri": "https://localhost:8080/"
        },
        "outputId": "f5a5bda6-9a46-4559-823d-3e6830593c6d"
      },
      "outputs": [
        {
          "output_type": "execute_result",
          "data": {
            "text/plain": [
              "4"
            ]
          },
          "metadata": {},
          "execution_count": 10
        }
      ],
      "source": [
        "x.ndim"
      ]
    },
    {
      "cell_type": "code",
      "execution_count": 11,
      "metadata": {
        "id": "w_lOX5W3ZKly",
        "colab": {
          "base_uri": "https://localhost:8080/"
        },
        "outputId": "6ea0c098-ca3a-4656-de36-852488bc99b8"
      },
      "outputs": [
        {
          "output_type": "execute_result",
          "data": {
            "text/plain": [
              "(1, 64, 64, 3)"
            ]
          },
          "metadata": {},
          "execution_count": 11
        }
      ],
      "source": [
        "x.shape"
      ]
    },
    {
      "cell_type": "code",
      "execution_count": 12,
      "metadata": {
        "id": "h3BNLAU9ZNdC",
        "colab": {
          "base_uri": "https://localhost:8080/"
        },
        "outputId": "80257904-4877-49db-c4b9-d1b490728a6d"
      },
      "outputs": [
        {
          "output_type": "stream",
          "name": "stdout",
          "text": [
            "1/1 [==============================] - 0s 194ms/step\n"
          ]
        }
      ],
      "source": [
        "pred=model.predict(x)"
      ]
    },
    {
      "cell_type": "code",
      "execution_count": 13,
      "metadata": {
        "id": "tZr2VbAbZTW_",
        "colab": {
          "base_uri": "https://localhost:8080/"
        },
        "outputId": "4c243c15-8da2-4ed1-9af1-24b3302fcf4a"
      },
      "outputs": [
        {
          "output_type": "execute_result",
          "data": {
            "text/plain": [
              "array([[1., 0., 0., 0.]], dtype=float32)"
            ]
          },
          "metadata": {},
          "execution_count": 13
        }
      ],
      "source": [
        "pred"
      ]
    },
    {
      "cell_type": "code",
      "execution_count": 14,
      "metadata": {
        "id": "Q6bU7wk1Zdb6",
        "colab": {
          "base_uri": "https://localhost:8080/"
        },
        "outputId": "ebf836cb-fcdd-4f02-aa18-7fb8c310ec17"
      },
      "outputs": [
        {
          "output_type": "execute_result",
          "data": {
            "text/plain": [
              "{'catarct': 0, 'diabetic_retinopathy': 1, 'glaucoma': 2, 'normal': 3}"
            ]
          },
          "metadata": {},
          "execution_count": 14
        }
      ],
      "source": [
        "{'catarct': 0, 'diabetic_retinopathy': 1, 'glaucoma': 2, 'normal': 3}"
      ]
    },
    {
      "cell_type": "code",
      "execution_count": 15,
      "metadata": {
        "id": "QYg7w2yDZ14_"
      },
      "outputs": [],
      "source": [
        "pred_class=np.argmax(pred,axis=1)"
      ]
    },
    {
      "cell_type": "code",
      "execution_count": 16,
      "metadata": {
        "id": "k00IhhvdZ38V",
        "colab": {
          "base_uri": "https://localhost:8080/"
        },
        "outputId": "162bddeb-3058-4705-ef8b-2477a6e8a242"
      },
      "outputs": [
        {
          "output_type": "execute_result",
          "data": {
            "text/plain": [
              "0"
            ]
          },
          "metadata": {},
          "execution_count": 16
        }
      ],
      "source": [
        "pred_class[0]"
      ]
    },
    {
      "cell_type": "code",
      "execution_count": 17,
      "metadata": {
        "id": "kCWyxyZGZ-Zx",
        "colab": {
          "base_uri": "https://localhost:8080/"
        },
        "outputId": "681edec8-7383-4a7a-a23a-34a2a9db8920"
      },
      "outputs": [
        {
          "output_type": "stream",
          "name": "stdout",
          "text": [
            "cataract\n"
          ]
        }
      ],
      "source": [
        "index = ['cataract','diabetic_retinopathy','glaucoma','normal']\n",
        "result = str(index[pred_class[0]])\n",
        "print(result)"
      ]
    },
    {
      "cell_type": "code",
      "source": [
        "pip install flask-ngrok"
      ],
      "metadata": {
        "colab": {
          "base_uri": "https://localhost:8080/"
        },
        "id": "xRVZUCFxGxBi",
        "outputId": "bc7db7f5-d4bb-4faa-9b0f-a35ffe5ea212"
      },
      "execution_count": null,
      "outputs": [
        {
          "output_type": "stream",
          "name": "stdout",
          "text": [
            "Collecting flask-ngrok\n",
            "  Downloading flask_ngrok-0.0.25-py3-none-any.whl (3.1 kB)\n",
            "Requirement already satisfied: Flask>=0.8 in /usr/local/lib/python3.10/dist-packages (from flask-ngrok) (2.2.5)\n",
            "Requirement already satisfied: requests in /usr/local/lib/python3.10/dist-packages (from flask-ngrok) (2.31.0)\n",
            "Requirement already satisfied: Werkzeug>=2.2.2 in /usr/local/lib/python3.10/dist-packages (from Flask>=0.8->flask-ngrok) (3.0.1)\n",
            "Requirement already satisfied: Jinja2>=3.0 in /usr/local/lib/python3.10/dist-packages (from Flask>=0.8->flask-ngrok) (3.1.2)\n",
            "Requirement already satisfied: itsdangerous>=2.0 in /usr/local/lib/python3.10/dist-packages (from Flask>=0.8->flask-ngrok) (2.1.2)\n",
            "Requirement already satisfied: click>=8.0 in /usr/local/lib/python3.10/dist-packages (from Flask>=0.8->flask-ngrok) (8.1.7)\n",
            "Requirement already satisfied: charset-normalizer<4,>=2 in /usr/local/lib/python3.10/dist-packages (from requests->flask-ngrok) (3.3.2)\n",
            "Requirement already satisfied: idna<4,>=2.5 in /usr/local/lib/python3.10/dist-packages (from requests->flask-ngrok) (3.4)\n",
            "Requirement already satisfied: urllib3<3,>=1.21.1 in /usr/local/lib/python3.10/dist-packages (from requests->flask-ngrok) (2.0.7)\n",
            "Requirement already satisfied: certifi>=2017.4.17 in /usr/local/lib/python3.10/dist-packages (from requests->flask-ngrok) (2023.7.22)\n",
            "Requirement already satisfied: MarkupSafe>=2.0 in /usr/local/lib/python3.10/dist-packages (from Jinja2>=3.0->Flask>=0.8->flask-ngrok) (2.1.3)\n",
            "Installing collected packages: flask-ngrok\n",
            "Successfully installed flask-ngrok-0.0.25\n"
          ]
        }
      ]
    }
  ],
  "metadata": {
    "accelerator": "TPU",
    "colab": {
      "provenance": []
    },
    "kernelspec": {
      "display_name": "Python 3",
      "name": "python3"
    },
    "language_info": {
      "name": "python"
    }
  },
  "nbformat": 4,
  "nbformat_minor": 0
}